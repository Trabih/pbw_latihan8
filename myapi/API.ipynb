{
 "cells": [
  {
   "cell_type": "code",
   "execution_count": 4,
   "metadata": {},
   "outputs": [],
   "source": [
    "import requests\n",
    "import pandas as pd\n"
   ]
  },
  {
   "cell_type": "code",
   "execution_count": 5,
   "metadata": {},
   "outputs": [
    {
     "name": "stdout",
     "output_type": "stream",
     "text": [
      "[{'id': 3, 'author': 'Ahmad', 'title': 'Penelitian Matematika Dasar Bagian 2', 'year': 2023}, {'id': 4, 'author': 'Ani', 'title': 'Studi Kasus Pembelajaran Mesin', 'year': 2023}, {'id': 5, 'author': 'Dewi', 'title': 'Analisis Data Besar', 'year': 2022}, {'id': 6, 'author': 'Cahyo', 'title': 'Pengembangan Sistem Tertanam', 'year': 2021}, {'id': 7, 'author': 'Eka', 'title': 'Optimasi Algoritma Genetika', 'year': 2023}, {'id': 8, 'author': 'Fajar', 'title': 'Implementasi Jaringan Syaraf Tiruan', 'year': 2020}, {'id': 9, 'author': 'Gita', 'title': 'Keamanan Siber dalam IoT', 'year': 2024}, {'id': 10, 'author': 'Hana', 'title': 'Pengolahan Bahasa Alami', 'year': 2021}, {'id': 11, 'author': 'Iwan', 'title': 'Sistem Pakar Berbasis Aturan', 'year': 2022}, {'id': 12, 'author': 'Joko', 'title': 'Pengembangan Aplikasi Mobile', 'year': 2024}]\n"
     ]
    }
   ],
   "source": [
    "url = \"http://127.0.0.1:8000/api/journals/\"\n",
    "token = \"e30d1e37508358b94c2204ca282c8b086a7934cd\"\n",
    "\n",
    "headers = {\n",
    "    \"Authorization\": \"Token \"+token\n",
    "}\n",
    "\n",
    "response = requests.get(url, headers=headers)\n",
    "\n",
    "if response.status_code == 200:\n",
    "    data = response.json()\n",
    "    print(data)\n",
    "else:\n",
    "    print(f\"Terjadi kesalahan: {response.status_code}\")\n",
    "    print(response.json())\n"
   ]
  },
  {
   "cell_type": "code",
   "execution_count": 6,
   "metadata": {},
   "outputs": [
    {
     "data": {
      "text/plain": [
       "[{'id': 3,\n",
       "  'author': 'Ahmad',\n",
       "  'title': 'Penelitian Matematika Dasar Bagian 2',\n",
       "  'year': 2023},\n",
       " {'id': 4,\n",
       "  'author': 'Ani',\n",
       "  'title': 'Studi Kasus Pembelajaran Mesin',\n",
       "  'year': 2023},\n",
       " {'id': 5, 'author': 'Dewi', 'title': 'Analisis Data Besar', 'year': 2022},\n",
       " {'id': 6,\n",
       "  'author': 'Cahyo',\n",
       "  'title': 'Pengembangan Sistem Tertanam',\n",
       "  'year': 2021},\n",
       " {'id': 7,\n",
       "  'author': 'Eka',\n",
       "  'title': 'Optimasi Algoritma Genetika',\n",
       "  'year': 2023},\n",
       " {'id': 8,\n",
       "  'author': 'Fajar',\n",
       "  'title': 'Implementasi Jaringan Syaraf Tiruan',\n",
       "  'year': 2020},\n",
       " {'id': 9,\n",
       "  'author': 'Gita',\n",
       "  'title': 'Keamanan Siber dalam IoT',\n",
       "  'year': 2024},\n",
       " {'id': 10,\n",
       "  'author': 'Hana',\n",
       "  'title': 'Pengolahan Bahasa Alami',\n",
       "  'year': 2021},\n",
       " {'id': 11,\n",
       "  'author': 'Iwan',\n",
       "  'title': 'Sistem Pakar Berbasis Aturan',\n",
       "  'year': 2022},\n",
       " {'id': 12,\n",
       "  'author': 'Joko',\n",
       "  'title': 'Pengembangan Aplikasi Mobile',\n",
       "  'year': 2024}]"
      ]
     },
     "execution_count": 6,
     "metadata": {},
     "output_type": "execute_result"
    }
   ],
   "source": [
    "data"
   ]
  },
  {
   "cell_type": "code",
   "execution_count": 7,
   "metadata": {},
   "outputs": [
    {
     "data": {
      "text/html": [
       "<div>\n",
       "<style scoped>\n",
       "    .dataframe tbody tr th:only-of-type {\n",
       "        vertical-align: middle;\n",
       "    }\n",
       "\n",
       "    .dataframe tbody tr th {\n",
       "        vertical-align: top;\n",
       "    }\n",
       "\n",
       "    .dataframe thead th {\n",
       "        text-align: right;\n",
       "    }\n",
       "</style>\n",
       "<table border=\"1\" class=\"dataframe\">\n",
       "  <thead>\n",
       "    <tr style=\"text-align: right;\">\n",
       "      <th></th>\n",
       "      <th>id</th>\n",
       "      <th>author</th>\n",
       "      <th>title</th>\n",
       "      <th>year</th>\n",
       "    </tr>\n",
       "  </thead>\n",
       "  <tbody>\n",
       "    <tr>\n",
       "      <th>0</th>\n",
       "      <td>3</td>\n",
       "      <td>Ahmad</td>\n",
       "      <td>Penelitian Matematika Dasar Bagian 2</td>\n",
       "      <td>2023</td>\n",
       "    </tr>\n",
       "    <tr>\n",
       "      <th>1</th>\n",
       "      <td>4</td>\n",
       "      <td>Ani</td>\n",
       "      <td>Studi Kasus Pembelajaran Mesin</td>\n",
       "      <td>2023</td>\n",
       "    </tr>\n",
       "    <tr>\n",
       "      <th>2</th>\n",
       "      <td>5</td>\n",
       "      <td>Dewi</td>\n",
       "      <td>Analisis Data Besar</td>\n",
       "      <td>2022</td>\n",
       "    </tr>\n",
       "    <tr>\n",
       "      <th>3</th>\n",
       "      <td>6</td>\n",
       "      <td>Cahyo</td>\n",
       "      <td>Pengembangan Sistem Tertanam</td>\n",
       "      <td>2021</td>\n",
       "    </tr>\n",
       "    <tr>\n",
       "      <th>4</th>\n",
       "      <td>7</td>\n",
       "      <td>Eka</td>\n",
       "      <td>Optimasi Algoritma Genetika</td>\n",
       "      <td>2023</td>\n",
       "    </tr>\n",
       "    <tr>\n",
       "      <th>5</th>\n",
       "      <td>8</td>\n",
       "      <td>Fajar</td>\n",
       "      <td>Implementasi Jaringan Syaraf Tiruan</td>\n",
       "      <td>2020</td>\n",
       "    </tr>\n",
       "    <tr>\n",
       "      <th>6</th>\n",
       "      <td>9</td>\n",
       "      <td>Gita</td>\n",
       "      <td>Keamanan Siber dalam IoT</td>\n",
       "      <td>2024</td>\n",
       "    </tr>\n",
       "    <tr>\n",
       "      <th>7</th>\n",
       "      <td>10</td>\n",
       "      <td>Hana</td>\n",
       "      <td>Pengolahan Bahasa Alami</td>\n",
       "      <td>2021</td>\n",
       "    </tr>\n",
       "    <tr>\n",
       "      <th>8</th>\n",
       "      <td>11</td>\n",
       "      <td>Iwan</td>\n",
       "      <td>Sistem Pakar Berbasis Aturan</td>\n",
       "      <td>2022</td>\n",
       "    </tr>\n",
       "    <tr>\n",
       "      <th>9</th>\n",
       "      <td>12</td>\n",
       "      <td>Joko</td>\n",
       "      <td>Pengembangan Aplikasi Mobile</td>\n",
       "      <td>2024</td>\n",
       "    </tr>\n",
       "  </tbody>\n",
       "</table>\n",
       "</div>"
      ],
      "text/plain": [
       "   id author                                 title  year\n",
       "0   3  Ahmad  Penelitian Matematika Dasar Bagian 2  2023\n",
       "1   4    Ani        Studi Kasus Pembelajaran Mesin  2023\n",
       "2   5   Dewi                   Analisis Data Besar  2022\n",
       "3   6  Cahyo          Pengembangan Sistem Tertanam  2021\n",
       "4   7    Eka           Optimasi Algoritma Genetika  2023\n",
       "5   8  Fajar   Implementasi Jaringan Syaraf Tiruan  2020\n",
       "6   9   Gita              Keamanan Siber dalam IoT  2024\n",
       "7  10   Hana               Pengolahan Bahasa Alami  2021\n",
       "8  11   Iwan          Sistem Pakar Berbasis Aturan  2022\n",
       "9  12   Joko          Pengembangan Aplikasi Mobile  2024"
      ]
     },
     "execution_count": 7,
     "metadata": {},
     "output_type": "execute_result"
    }
   ],
   "source": [
    "df = pd.json_normalize(data)\n",
    "df\n"
   ]
  },
  {
   "cell_type": "code",
   "execution_count": 8,
   "metadata": {},
   "outputs": [
    {
     "name": "stdout",
     "output_type": "stream",
     "text": [
      "200\n",
      "[{'id': 3, 'author': 'Ahmad', 'title': 'Penelitian Matematika Dasar Bagian 2', 'year': 2023}, {'id': 4, 'author': 'Ani', 'title': 'Studi Kasus Pembelajaran Mesin', 'year': 2023}, {'id': 5, 'author': 'Dewi', 'title': 'Analisis Data Besar', 'year': 2022}, {'id': 6, 'author': 'Cahyo', 'title': 'Pengembangan Sistem Tertanam', 'year': 2021}, {'id': 7, 'author': 'Eka', 'title': 'Optimasi Algoritma Genetika', 'year': 2023}, {'id': 8, 'author': 'Fajar', 'title': 'Implementasi Jaringan Syaraf Tiruan', 'year': 2020}, {'id': 9, 'author': 'Gita', 'title': 'Keamanan Siber dalam IoT', 'year': 2024}, {'id': 10, 'author': 'Hana', 'title': 'Pengolahan Bahasa Alami', 'year': 2021}, {'id': 11, 'author': 'Iwan', 'title': 'Sistem Pakar Berbasis Aturan', 'year': 2022}, {'id': 12, 'author': 'Joko', 'title': 'Pengembangan Aplikasi Mobile', 'year': 2024}]\n"
     ]
    }
   ],
   "source": [
    "url = 'http://127.0.0.1:8000/api/journals/'\n",
    "data = {\n",
    "    \"author\": \"Ichsan\",\n",
    "    \"title\": \"Penelitian bahasa python\",\n",
    "    \"year\": 2024\n",
    "}\n",
    "token = \"e30d1e37508358b94c2204ca282c8b086a7934cd\"\n",
    "\n",
    "headers = {\n",
    "    \"Authorization\": \"Token \"+token\n",
    "}\n",
    "\n",
    "response = requests.get(url, headers=headers)\n",
    "\n",
    "print(response.status_code)\n",
    "print(response.json())\n"
   ]
  },
  {
   "cell_type": "code",
   "execution_count": 9,
   "metadata": {},
   "outputs": [
    {
     "name": "stdout",
     "output_type": "stream",
     "text": [
      "200\n",
      "{'id': 3, 'author': 'Ahmad', 'title': 'Penelitian Matematika Dasar Bagian 2', 'year': 2023}\n",
      "{'author': 'Ahmad', 'title': 'Penelitian Matematika Dasar Bagian 2', 'year': 2023}\n"
     ]
    }
   ],
   "source": [
    "url = 'http://127.0.0.1:8000/api/updatejournals/3/'\n",
    "token = \"e30d1e37508358b94c2204ca282c8b086a7934cd\"\n",
    "\n",
    "headers = {\n",
    "    \"Authorization\": \"Token \"+token\n",
    "}\n",
    "data = {\n",
    "    \"author\": \"Ahmad\",\n",
    "    \"title\": \"Penelitian Matematika Dasar Bagian 2\",\n",
    "    \"year\": 2023\n",
    "}\n",
    "\n",
    "response = requests.put(url, json=data, headers=headers)\n",
    "\n",
    "print(response.status_code)\n",
    "print(response.json())\n",
    "print(data)\n"
   ]
  },
  {
   "cell_type": "code",
   "execution_count": 10,
   "metadata": {},
   "outputs": [
    {
     "name": "stdout",
     "output_type": "stream",
     "text": [
      "404\n",
      "{'author': 'Ahmad', 'title': 'Penelitian Matematika Dasar Bagian 2', 'year': 2023}\n"
     ]
    }
   ],
   "source": [
    "import requests\n",
    "\n",
    "url = 'http://127.0.0.1:8000/api/deletejournals/1/'\n",
    "token = \"e30d1e37508358b94c2204ca282c8b086a7934cd\"\n",
    "\n",
    "headers = {\n",
    "    \"Authorization\": \"Token \"+token\n",
    "}\n",
    "\n",
    "response = requests.delete(url, headers=headers)\n",
    "\n",
    "print(response.status_code)\n",
    "print(data)\n"
   ]
  },
  {
   "cell_type": "code",
   "execution_count": 11,
   "metadata": {},
   "outputs": [
    {
     "data": {
      "text/html": [
       "<div>\n",
       "<style scoped>\n",
       "    .dataframe tbody tr th:only-of-type {\n",
       "        vertical-align: middle;\n",
       "    }\n",
       "\n",
       "    .dataframe tbody tr th {\n",
       "        vertical-align: top;\n",
       "    }\n",
       "\n",
       "    .dataframe thead th {\n",
       "        text-align: right;\n",
       "    }\n",
       "</style>\n",
       "<table border=\"1\" class=\"dataframe\">\n",
       "  <thead>\n",
       "    <tr style=\"text-align: right;\">\n",
       "      <th></th>\n",
       "      <th>id</th>\n",
       "      <th>author</th>\n",
       "      <th>title</th>\n",
       "      <th>year</th>\n",
       "    </tr>\n",
       "  </thead>\n",
       "  <tbody>\n",
       "    <tr>\n",
       "      <th>0</th>\n",
       "      <td>3</td>\n",
       "      <td>Ahmad</td>\n",
       "      <td>Penelitian Matematika Dasar Bagian 2</td>\n",
       "      <td>2023</td>\n",
       "    </tr>\n",
       "    <tr>\n",
       "      <th>1</th>\n",
       "      <td>4</td>\n",
       "      <td>Ani</td>\n",
       "      <td>Studi Kasus Pembelajaran Mesin</td>\n",
       "      <td>2023</td>\n",
       "    </tr>\n",
       "    <tr>\n",
       "      <th>2</th>\n",
       "      <td>5</td>\n",
       "      <td>Dewi</td>\n",
       "      <td>Analisis Data Besar</td>\n",
       "      <td>2022</td>\n",
       "    </tr>\n",
       "    <tr>\n",
       "      <th>3</th>\n",
       "      <td>6</td>\n",
       "      <td>Cahyo</td>\n",
       "      <td>Pengembangan Sistem Tertanam</td>\n",
       "      <td>2021</td>\n",
       "    </tr>\n",
       "    <tr>\n",
       "      <th>4</th>\n",
       "      <td>7</td>\n",
       "      <td>Eka</td>\n",
       "      <td>Optimasi Algoritma Genetika</td>\n",
       "      <td>2023</td>\n",
       "    </tr>\n",
       "    <tr>\n",
       "      <th>5</th>\n",
       "      <td>8</td>\n",
       "      <td>Fajar</td>\n",
       "      <td>Implementasi Jaringan Syaraf Tiruan</td>\n",
       "      <td>2020</td>\n",
       "    </tr>\n",
       "    <tr>\n",
       "      <th>6</th>\n",
       "      <td>9</td>\n",
       "      <td>Gita</td>\n",
       "      <td>Keamanan Siber dalam IoT</td>\n",
       "      <td>2024</td>\n",
       "    </tr>\n",
       "    <tr>\n",
       "      <th>7</th>\n",
       "      <td>10</td>\n",
       "      <td>Hana</td>\n",
       "      <td>Pengolahan Bahasa Alami</td>\n",
       "      <td>2021</td>\n",
       "    </tr>\n",
       "    <tr>\n",
       "      <th>8</th>\n",
       "      <td>11</td>\n",
       "      <td>Iwan</td>\n",
       "      <td>Sistem Pakar Berbasis Aturan</td>\n",
       "      <td>2022</td>\n",
       "    </tr>\n",
       "    <tr>\n",
       "      <th>9</th>\n",
       "      <td>12</td>\n",
       "      <td>Joko</td>\n",
       "      <td>Pengembangan Aplikasi Mobile</td>\n",
       "      <td>2024</td>\n",
       "    </tr>\n",
       "  </tbody>\n",
       "</table>\n",
       "</div>"
      ],
      "text/plain": [
       "   id author                                 title  year\n",
       "0   3  Ahmad  Penelitian Matematika Dasar Bagian 2  2023\n",
       "1   4    Ani        Studi Kasus Pembelajaran Mesin  2023\n",
       "2   5   Dewi                   Analisis Data Besar  2022\n",
       "3   6  Cahyo          Pengembangan Sistem Tertanam  2021\n",
       "4   7    Eka           Optimasi Algoritma Genetika  2023\n",
       "5   8  Fajar   Implementasi Jaringan Syaraf Tiruan  2020\n",
       "6   9   Gita              Keamanan Siber dalam IoT  2024\n",
       "7  10   Hana               Pengolahan Bahasa Alami  2021\n",
       "8  11   Iwan          Sistem Pakar Berbasis Aturan  2022\n",
       "9  12   Joko          Pengembangan Aplikasi Mobile  2024"
      ]
     },
     "execution_count": 11,
     "metadata": {},
     "output_type": "execute_result"
    }
   ],
   "source": [
    "df"
   ]
  },
  {
   "cell_type": "code",
   "execution_count": 12,
   "metadata": {},
   "outputs": [
    {
     "data": {
      "text/plain": [
       "{'author': 'Ahmad',\n",
       " 'title': 'Penelitian Matematika Dasar Bagian 2',\n",
       " 'year': 2023}"
      ]
     },
     "execution_count": 12,
     "metadata": {},
     "output_type": "execute_result"
    }
   ],
   "source": [
    "data"
   ]
  },
  {
   "cell_type": "code",
   "execution_count": 13,
   "metadata": {},
   "outputs": [
    {
     "name": "stdout",
     "output_type": "stream",
     "text": [
      "200\n",
      "{'hasil_deret': [3, 4, 5, 6, 7, 8, 9, 10], 'total': 52}\n"
     ]
    }
   ],
   "source": [
    "import requests\n",
    "\n",
    "url = 'http://127.0.0.1:8000/api/hitungderet/'\n",
    "token = \"e30d1e37508358b94c2204ca282c8b086a7934cd\"\n",
    "\n",
    "headers = {\n",
    "    \"Authorization\": \"Token \"+token\n",
    "}\n",
    "\n",
    "data = {\n",
    "    \"awal\": 3,\n",
    "    \"akhir\": 10,\n",
    "}\n",
    "\n",
    "response = requests.post(url, headers=headers, json=data)\n",
    "\n",
    "print(response.status_code)\n",
    "print(response.json())\n"
   ]
  }
 ],
 "metadata": {
  "kernelspec": {
   "display_name": "Python 3",
   "language": "python",
   "name": "python3"
  },
  "language_info": {
   "codemirror_mode": {
    "name": "ipython",
    "version": 3
   },
   "file_extension": ".py",
   "mimetype": "text/x-python",
   "name": "python",
   "nbconvert_exporter": "python",
   "pygments_lexer": "ipython3",
   "version": "3.12.0"
  }
 },
 "nbformat": 4,
 "nbformat_minor": 2
}
